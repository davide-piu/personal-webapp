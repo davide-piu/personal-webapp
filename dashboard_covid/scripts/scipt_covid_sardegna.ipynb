{
  "nbformat": 4,
  "nbformat_minor": 0,
  "metadata": {
    "colab": {
      "name": "scipt_covid_sardegna.ipynb",
      "provenance": [],
      "collapsed_sections": []
    },
    "kernelspec": {
      "name": "python3",
      "display_name": "Python 3"
    }
  },
  "cells": [
    {
      "cell_type": "markdown",
      "metadata": {
        "id": "LN1A7-51KSx4"
      },
      "source": [
        ""
      ]
    },
    {
      "cell_type": "code",
      "metadata": {
        "id": "qR_kQkKFKi_k"
      },
      "source": [
        "import pandas as pd\n",
        "df = pd.read_json('https://query.data.world/s/lbd7qh3tc3eou7oxvwywpi27znqpns')"
      ],
      "execution_count": null,
      "outputs": []
    },
    {
      "cell_type": "code",
      "metadata": {
        "id": "nNnDWi50KkPd"
      },
      "source": [
        "list(df.columns.values.tolist()) \n"
      ],
      "execution_count": null,
      "outputs": []
    },
    {
      "cell_type": "code",
      "metadata": {
        "id": "shsMqd9aD2aW"
      },
      "source": [
        "import pandas as pd\n",
        "df_province = pd.read_json('https://query.data.world/s/rcatyiw4uwlpm545mrwwf7oaudyeys')\n",
        "df_province = df_provincie[df_province['denominazione_regione'] =='Sardegna']\n",
        "\n"
      ],
      "execution_count": null,
      "outputs": []
    },
    {
      "cell_type": "code",
      "metadata": {
        "colab": {
          "base_uri": "https://localhost:8080/"
        },
        "id": "VwqBlqgUG6xv",
        "outputId": "666390c5-c70f-4a53-b6b9-dbf641d0e04f"
      },
      "source": [
        "df_ss=df_province.loc[df_province['sigla_provincia'] == \"SS\"]\n",
        "df_ca=df_province.loc[df_province['sigla_provincia'] == \"CA\"]\n",
        "df_or=df_province.loc[df_province['sigla_provincia'] == \"OR\"]\n",
        "df_su=df_province.loc[df_province['sigla_provincia'] == \"SU\"]\n",
        "df_nu=df_province.loc[df_province['sigla_provincia'] == \"NU\"]\n",
        "\n",
        "df_ss.index=df_ss['data']\n",
        "df_ss.drop(['data'], axis=1,inplace=True)\n",
        "df_ca.index=df_ca['data']\n",
        "df_ca.drop(['data'], axis=1,inplace=True)\n",
        "df_or.index=df_or['data']\n",
        "df_or.drop(['data'], axis=1,inplace=True)\n",
        "df_su.index=df_su['data']\n",
        "df_su.drop(['data'], axis=1,inplace=True)\n",
        "df_nu.index=df_nu['data']\n",
        "df_nu.drop(['data'], axis=1,inplace=True)\n",
        "\n",
        "\n",
        "\n",
        "\n"
      ],
      "execution_count": null,
      "outputs": [
        {
          "output_type": "stream",
          "text": [
            "/usr/local/lib/python3.6/dist-packages/pandas/core/frame.py:4174: SettingWithCopyWarning: \n",
            "A value is trying to be set on a copy of a slice from a DataFrame\n",
            "\n",
            "See the caveats in the documentation: https://pandas.pydata.org/pandas-docs/stable/user_guide/indexing.html#returning-a-view-versus-a-copy\n",
            "  errors=errors,\n"
          ],
          "name": "stderr"
        }
      ]
    },
    {
      "cell_type": "code",
      "metadata": {
        "id": "EkzNvwuQMISW"
      },
      "source": [
        "df_ca=df_ca.pivot(columns='sigla_provincia', values='totale_casi')\n",
        "df_ss=df_ss.pivot(columns='sigla_provincia', values='totale_casi')\n",
        "df_nu=df_nu.pivot(columns='sigla_provincia', values='totale_casi')\n",
        "df_or=df_or.pivot(columns='sigla_provincia', values='totale_casi')\n",
        "df_su=df_su.pivot(columns='sigla_provincia', values='totale_casi')\n"
      ],
      "execution_count": null,
      "outputs": []
    },
    {
      "cell_type": "code",
      "metadata": {
        "id": "J57jSBJ-UUld"
      },
      "source": [
        "df_province_sardegna = pd.concat([df_ca, df_ss,df_nu,df_or,df_su], axis=1).reindex(df_ca.index)\n"
      ],
      "execution_count": null,
      "outputs": []
    },
    {
      "cell_type": "code",
      "metadata": {
        "id": "ihxoG9UXWAB3"
      },
      "source": [
        "data_sardegna=list(df_province_sardegna.index.values)"
      ],
      "execution_count": null,
      "outputs": []
    }
  ]
}
